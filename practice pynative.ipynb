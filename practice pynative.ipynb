{
 "cells": [
  {
   "cell_type": "markdown",
   "id": "1846644b",
   "metadata": {},
   "source": [
    "# Given two integer numbers return their product only if the product is greater than 1000, else return their sum"
   ]
  },
  {
   "cell_type": "code",
   "execution_count": 4,
   "id": "24f8c2fc",
   "metadata": {},
   "outputs": [],
   "source": [
    "def product_sum(num1,num2):\n",
    "    product = num1 * num2\n",
    "    if product > 1000:\n",
    "        return product\n",
    "    else:\n",
    "        return num1 + num2"
   ]
  },
  {
   "cell_type": "code",
   "execution_count": 5,
   "id": "779bf8ce",
   "metadata": {},
   "outputs": [
    {
     "name": "stdout",
     "output_type": "stream",
     "text": [
      "70\n"
     ]
    }
   ],
   "source": [
    "result = product_sum(50,20)\n",
    "print(result)\n"
   ]
  },
  {
   "cell_type": "code",
   "execution_count": 6,
   "id": "e7011361",
   "metadata": {},
   "outputs": [
    {
     "name": "stdout",
     "output_type": "stream",
     "text": [
      "30\n"
     ]
    }
   ],
   "source": [
    "result = product_sum(10,20)\n",
    "print(result)"
   ]
  },
  {
   "cell_type": "code",
   "execution_count": 7,
   "id": "7ca16a5c",
   "metadata": {},
   "outputs": [
    {
     "name": "stdout",
     "output_type": "stream",
     "text": [
      "1600\n"
     ]
    }
   ],
   "source": [
    "result = product_sum(80,20)\n",
    "print(result)"
   ]
  },
  {
   "cell_type": "markdown",
   "id": "7e649a68",
   "metadata": {},
   "source": [
    "# Write a program to iterate the first 10 numbers and in each iteration, print the sum of the current and previous number"
   ]
  },
  {
   "cell_type": "code",
   "execution_count": 19,
   "id": "4f309ff9",
   "metadata": {},
   "outputs": [
    {
     "name": "stdout",
     "output_type": "stream",
     "text": [
      "Current number is 0 Previous number is -1 Next Number is 1\n",
      "Current number is 1 Previous number is 0 Next Number is 2\n",
      "Current number is 2 Previous number is 1 Next Number is 3\n",
      "Current number is 3 Previous number is 2 Next Number is 4\n",
      "Current number is 4 Previous number is 3 Next Number is 5\n",
      "Current number is 5 Previous number is 4 Next Number is 6\n",
      "Current number is 6 Previous number is 5 Next Number is 7\n",
      "Current number is 7 Previous number is 6 Next Number is 8\n",
      "Current number is 8 Previous number is 7 Next Number is 9\n",
      "Current number is 9 Previous number is 8 Next Number is 10\n"
     ]
    }
   ],
   "source": [
    "x = range(10)\n",
    "for i in x:\n",
    "    print(f'Current number is {i} Previous number is {i-1} Next Number is {i + 1}')\n",
    "    i = i + 1\n",
    "    "
   ]
  },
  {
   "cell_type": "code",
   "execution_count": null,
   "id": "5c8cda29",
   "metadata": {},
   "outputs": [],
   "source": []
  }
 ],
 "metadata": {
  "kernelspec": {
   "display_name": "Python 3 (ipykernel)",
   "language": "python",
   "name": "python3"
  },
  "language_info": {
   "codemirror_mode": {
    "name": "ipython",
    "version": 3
   },
   "file_extension": ".py",
   "mimetype": "text/x-python",
   "name": "python",
   "nbconvert_exporter": "python",
   "pygments_lexer": "ipython3",
   "version": "3.9.7"
  }
 },
 "nbformat": 4,
 "nbformat_minor": 5
}
